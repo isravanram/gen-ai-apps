{
 "cells": [
  {
   "cell_type": "code",
   "execution_count": null,
   "metadata": {},
   "outputs": [],
   "source": []
  },
  {
   "cell_type": "code",
   "execution_count": null,
   "metadata": {},
   "outputs": [],
   "source": [
    "import os\n",
    "# Set timeout to avoid connection issues on slow networks\n",
    "os.environ[\"HF_HUB_TIMEOUT\"] = \"1800\"  # 30 minutes\n",
    "\n",
    "from transformers import AutoModelForCausalLM, AutoTokenizer\n",
    "\n",
    "model_name = \"Snowflake/Arctic-Text2SQL-R1-7B\"\n",
    "\n",
    "# # Increase timeout to 120 seconds (or more if needed)\n",
    "# tokenizer = AutoTokenizer.from_pretrained(model_name, timeout=1800)\n",
    "# model = AutoModelForCausalLM.from_pretrained(model_name, timeout=1800)\n",
    "\n",
    "tokenizer = AutoTokenizer.from_pretrained(model_name, token=os.environ[\"HF_TOKEN\"])\n",
    "model = AutoModelForCausalLM.from_pretrained(model_name, token=os.environ[\"HF_TOKEN\"])"
   ]
  },
  {
   "cell_type": "code",
   "execution_count": null,
   "metadata": {},
   "outputs": [],
   "source": [
    "pip install hf_xet"
   ]
  },
  {
   "cell_type": "code",
   "execution_count": null,
   "metadata": {},
   "outputs": [],
   "source": []
  }
 ],
 "metadata": {
  "kernelspec": {
   "display_name": "myenv",
   "language": "python",
   "name": "python3"
  },
  "language_info": {
   "codemirror_mode": {
    "name": "ipython",
    "version": 3
   },
   "file_extension": ".py",
   "mimetype": "text/x-python",
   "name": "python",
   "nbconvert_exporter": "python",
   "pygments_lexer": "ipython3",
   "version": "3.9.6"
  }
 },
 "nbformat": 4,
 "nbformat_minor": 2
}
